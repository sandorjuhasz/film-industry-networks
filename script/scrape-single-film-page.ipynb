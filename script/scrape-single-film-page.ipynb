{
 "cells": [
  {
   "cell_type": "markdown",
   "metadata": {},
   "source": [
    "## scrape single pages from the Hungarian Film Archive\n",
    "http://mandarchiv.hu/tart/jatekfilm"
   ]
  },
  {
   "cell_type": "code",
   "execution_count": 3,
   "metadata": {},
   "outputs": [],
   "source": [
    "from bs4 import BeautifulSoup as soup, Tag\n",
    "from bs4 import BeautifulSoup\n",
    "import requests\n",
    "import pandas as pd\n",
    "import random\n",
    "\n",
    "import json"
   ]
  },
  {
   "cell_type": "code",
   "execution_count": 4,
   "metadata": {},
   "outputs": [],
   "source": [
    "# \n",
    "\n",
    "USER_AGENTS = [\n",
    "    # Chrome\n",
    "    'Mozilla/5.0 (Windows NT 6.2; Win64; x64) AppleWebKit/537.36 (KHTML, like Gecko) Chrome/32.0.1667.0 Safari/537.36',\n",
    "    # Firefox\n",
    "    'Mozilla/5.0 (Windows NT 6.1; Win64; x64; rv:25.0) Gecko/20100101 Firefox/25.0',\n",
    "    # Opera\n",
    "    'Opera/9.80 (Windows NT 6.0) Presto/2.12.388 Version/12.14',\n",
    "    # Safari\n",
    "    'Mozilla/5.0 (iPad; CPU OS 6_0 like Mac OS X) AppleWebKit/536.26 (KHTML, like Gecko) Version/6.0 Mobile/10A5355d Safari/8536.25',\n",
    "    # Internet Explorer\n",
    "    'Mozilla/5.0 (compatible; MSIE 10.6; Windows NT 6.1; Trident/5.0; InfoPath.2; SLCC1; .NET CLR 3.0.4506.2152; .NET CLR 3.5.30729; .NET CLR 2.0.50727) 3gpp-gba UNTRUSTED/1.0',\n",
    "]\n",
    "\n",
    "def get_header(agents):\n",
    "    return {'User-agent': random.choice(agents)}"
   ]
  },
  {
   "cell_type": "code",
   "execution_count": 5,
   "metadata": {},
   "outputs": [],
   "source": [
    "url = 'http://mandarchiv.hu/tart/jatekfilm?name=jatekfilm&action=film&id=255012030'\n",
    "response = requests.get(url, headers=get_header(USER_AGENTS))\n",
    "soup = BeautifulSoup(response.content, \"html.parser\")"
   ]
  },
  {
   "cell_type": "code",
   "execution_count": 6,
   "metadata": {},
   "outputs": [],
   "source": [
    "# necessary lists\n",
    "director = []\n",
    "cinematographer = []\n",
    "writer = []\n",
    "editor = []\n",
    "producer = []\n",
    "\n",
    "\n",
    "\n",
    "# title\n",
    "input_title = soup.find(\"div\", {\"class\": \"w_480\"}).findNext('h2')\n",
    "for T in input_title:\n",
    "    title = input_title.text\n",
    "    \n",
    "# year\n",
    "input_year = soup.find('p', {'class': 'date'})\n",
    "for Y in input_year:\n",
    "    Y_temp = input_year.text\n",
    "    year = Y_temp[-5:]\n",
    "    \n",
    "# director\n",
    "for d in soup.findAll(text='rendező / director:'):\n",
    "    for item in d.parent.next_siblings:\n",
    "        if isinstance(item, Tag):\n",
    "            if 'class' in item.attrs and 'name' in item.attrs['class']:\n",
    "                break\n",
    "            d_body = item.text\n",
    "            director.append(d_body)\n",
    "            \n",
    "# writer\n",
    "for w in soup.findAll(text='forgatókönyvíró / writer (screenplay):'):\n",
    "    for item in w.parent.next_siblings:\n",
    "        if isinstance(item, Tag):\n",
    "            if 'class' in item.attrs and 'name' in item.attrs['class']:\n",
    "                break\n",
    "            w_body = item.text\n",
    "            writer.append(w_body)\n",
    "    \n",
    "# cinematographer\n",
    "for c in soup.findAll(text='operatőr / cinematographer:'):\n",
    "    for item in c.parent.next_siblings:\n",
    "        if isinstance(item, Tag):\n",
    "            if 'class' in item.attrs and 'name' in item.attrs['class']:\n",
    "                break\n",
    "            c_body = item.text\n",
    "            cinematographer.append(c_body)\n",
    "    \n",
    "# editor\n",
    "for e in soup.findAll(text='vágó / editor:'):\n",
    "    for item in e.parent.next_siblings:\n",
    "        if isinstance(item, Tag):\n",
    "            if 'class' in item.attrs and 'name' in item.attrs['class']:\n",
    "                break\n",
    "            e_body = item.text\n",
    "            editor.append(e_body)\n",
    "    \n",
    "# producer\n",
    "for t in soup.findAll(text='producer / producer:'):\n",
    "    for item in t.parent.next_siblings:\n",
    "        if isinstance(item, Tag):\n",
    "            if 'class' in item.attrs and 'name' in item.attrs['class']:\n",
    "                break\n",
    "            p_body = item.text\n",
    "            producer.append(p_body)"
   ]
  },
  {
   "cell_type": "code",
   "execution_count": 8,
   "metadata": {},
   "outputs": [],
   "source": [
    "# construct json for export\n",
    "data = {}\n",
    "\n",
    "data['255012030'] = {\n",
    "    'title' : title,\n",
    "    'year' : year,\n",
    "    'director' : director,\n",
    "    'writer' : writer,\n",
    "    'cinematographer' : cinematographer,\n",
    "    'editor' : editor,\n",
    "    'producer' : producer\n",
    "}\n",
    "\n",
    "\n",
    "with open('../data/film_255012030.txt', 'w') as outfile:\n",
    "    json.dump(data, outfile)"
   ]
  },
  {
   "cell_type": "code",
   "execution_count": 9,
   "metadata": {},
   "outputs": [
    {
     "data": {
      "text/plain": [
       "{'255012030': {'title': 'Glass Tiger',\n",
       "  'year': ' 2001',\n",
       "  'director': ['Kapitány, Iván', 'Rudolf, Péter'],\n",
       "  'writer': ['Hársing, Hilda',\n",
       "   'Búss Gábor Olivér',\n",
       "   'Kapitány, Iván',\n",
       "   'Rudolf, Péter'],\n",
       "  'cinematographer': ['Kapitány, Iván'],\n",
       "  'editor': ['Vass Csaba'],\n",
       "  'producer': ['Kovács, Gábor', 'Pataki, Ági']}}"
      ]
     },
     "execution_count": 9,
     "metadata": {},
     "output_type": "execute_result"
    }
   ],
   "source": [
    "data"
   ]
  },
  {
   "cell_type": "code",
   "execution_count": null,
   "metadata": {},
   "outputs": [],
   "source": []
  }
 ],
 "metadata": {
  "kernelspec": {
   "display_name": "Python 3",
   "language": "python",
   "name": "python3"
  },
  "language_info": {
   "codemirror_mode": {
    "name": "ipython",
    "version": 3
   },
   "file_extension": ".py",
   "mimetype": "text/x-python",
   "name": "python",
   "nbconvert_exporter": "python",
   "pygments_lexer": "ipython3",
   "version": "3.7.3"
  }
 },
 "nbformat": 4,
 "nbformat_minor": 2
}
